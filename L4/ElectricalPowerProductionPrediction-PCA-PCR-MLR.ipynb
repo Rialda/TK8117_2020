{
 "cells": [
  {
   "cell_type": "code",
   "execution_count": 103,
   "metadata": {},
   "outputs": [],
   "source": [
    "import pandas as pd\n",
    "import numpy as np\n",
    "import matplotlib.pyplot as plt"
   ]
  },
  {
   "cell_type": "code",
   "execution_count": 104,
   "metadata": {},
   "outputs": [
    {
     "data": {
      "text/html": [
       "<div>\n",
       "<style scoped>\n",
       "    .dataframe tbody tr th:only-of-type {\n",
       "        vertical-align: middle;\n",
       "    }\n",
       "\n",
       "    .dataframe tbody tr th {\n",
       "        vertical-align: top;\n",
       "    }\n",
       "\n",
       "    .dataframe thead th {\n",
       "        text-align: right;\n",
       "    }\n",
       "</style>\n",
       "<table border=\"1\" class=\"dataframe\">\n",
       "  <thead>\n",
       "    <tr style=\"text-align: right;\">\n",
       "      <th></th>\n",
       "      <th>Year</th>\n",
       "      <th>IsDayBin</th>\n",
       "      <th>Month</th>\n",
       "      <th>WindSpeed</th>\n",
       "      <th>IrrDirect</th>\n",
       "      <th>IrrDiffuse</th>\n",
       "      <th>Temperature</th>\n",
       "      <th>Percipitation</th>\n",
       "      <th>SnowFlow</th>\n",
       "      <th>SnowMass</th>\n",
       "      <th>AirDensity</th>\n",
       "      <th>RadSurface</th>\n",
       "      <th>RadTop</th>\n",
       "      <th>CloudCover</th>\n",
       "    </tr>\n",
       "  </thead>\n",
       "  <tbody>\n",
       "    <tr>\n",
       "      <th>R1</th>\n",
       "      <td>2016</td>\n",
       "      <td>Night</td>\n",
       "      <td>1</td>\n",
       "      <td>5.777</td>\n",
       "      <td>0.0</td>\n",
       "      <td>0.0</td>\n",
       "      <td>-1.210</td>\n",
       "      <td>0.114</td>\n",
       "      <td>0.099</td>\n",
       "      <td>10.592</td>\n",
       "      <td>1.268</td>\n",
       "      <td>0.0</td>\n",
       "      <td>0.0</td>\n",
       "      <td>1.0</td>\n",
       "    </tr>\n",
       "    <tr>\n",
       "      <th>R2</th>\n",
       "      <td>2016</td>\n",
       "      <td>Night</td>\n",
       "      <td>1</td>\n",
       "      <td>5.887</td>\n",
       "      <td>0.0</td>\n",
       "      <td>0.0</td>\n",
       "      <td>-0.862</td>\n",
       "      <td>0.114</td>\n",
       "      <td>0.103</td>\n",
       "      <td>10.671</td>\n",
       "      <td>1.266</td>\n",
       "      <td>0.0</td>\n",
       "      <td>0.0</td>\n",
       "      <td>1.0</td>\n",
       "    </tr>\n",
       "    <tr>\n",
       "      <th>R3</th>\n",
       "      <td>2016</td>\n",
       "      <td>Night</td>\n",
       "      <td>1</td>\n",
       "      <td>5.957</td>\n",
       "      <td>0.0</td>\n",
       "      <td>0.0</td>\n",
       "      <td>-0.552</td>\n",
       "      <td>0.122</td>\n",
       "      <td>0.111</td>\n",
       "      <td>10.756</td>\n",
       "      <td>1.265</td>\n",
       "      <td>0.0</td>\n",
       "      <td>0.0</td>\n",
       "      <td>1.0</td>\n",
       "    </tr>\n",
       "    <tr>\n",
       "      <th>R4</th>\n",
       "      <td>2016</td>\n",
       "      <td>Night</td>\n",
       "      <td>1</td>\n",
       "      <td>6.025</td>\n",
       "      <td>0.0</td>\n",
       "      <td>0.0</td>\n",
       "      <td>-0.297</td>\n",
       "      <td>0.158</td>\n",
       "      <td>0.145</td>\n",
       "      <td>10.855</td>\n",
       "      <td>1.264</td>\n",
       "      <td>0.0</td>\n",
       "      <td>0.0</td>\n",
       "      <td>1.0</td>\n",
       "    </tr>\n",
       "    <tr>\n",
       "      <th>R5</th>\n",
       "      <td>2016</td>\n",
       "      <td>Night</td>\n",
       "      <td>1</td>\n",
       "      <td>6.101</td>\n",
       "      <td>0.0</td>\n",
       "      <td>0.0</td>\n",
       "      <td>-0.149</td>\n",
       "      <td>0.164</td>\n",
       "      <td>0.081</td>\n",
       "      <td>10.884</td>\n",
       "      <td>1.263</td>\n",
       "      <td>0.0</td>\n",
       "      <td>0.0</td>\n",
       "      <td>1.0</td>\n",
       "    </tr>\n",
       "  </tbody>\n",
       "</table>\n",
       "</div>"
      ],
      "text/plain": [
       "    Year IsDayBin  Month  WindSpeed  IrrDirect  IrrDiffuse  Temperature  \\\n",
       "R1  2016    Night      1      5.777        0.0         0.0       -1.210   \n",
       "R2  2016    Night      1      5.887        0.0         0.0       -0.862   \n",
       "R3  2016    Night      1      5.957        0.0         0.0       -0.552   \n",
       "R4  2016    Night      1      6.025        0.0         0.0       -0.297   \n",
       "R5  2016    Night      1      6.101        0.0         0.0       -0.149   \n",
       "\n",
       "    Percipitation  SnowFlow  SnowMass  AirDensity  RadSurface  RadTop  \\\n",
       "R1          0.114     0.099    10.592       1.268         0.0     0.0   \n",
       "R2          0.114     0.103    10.671       1.266         0.0     0.0   \n",
       "R3          0.122     0.111    10.756       1.265         0.0     0.0   \n",
       "R4          0.158     0.145    10.855       1.264         0.0     0.0   \n",
       "R5          0.164     0.081    10.884       1.263         0.0     0.0   \n",
       "\n",
       "    CloudCover  \n",
       "R1         1.0  \n",
       "R2         1.0  \n",
       "R3         1.0  \n",
       "R4         1.0  \n",
       "R5         1.0  "
      ]
     },
     "execution_count": 104,
     "metadata": {},
     "output_type": "execute_result"
    }
   ],
   "source": [
    "# read the data, and display the head so to visualize if everything is ok\n",
    "x_path = 'X.txt'\n",
    "y_path = 'Y.txt'\n",
    "\n",
    "x = pd.read_csv(x_path, sep=';')\n",
    "y = pd.read_csv(y_path, sep=';')\n",
    "\n",
    "x.head()"
   ]
  },
  {
   "cell_type": "code",
   "execution_count": 105,
   "metadata": {},
   "outputs": [
    {
     "data": {
      "text/html": [
       "<div>\n",
       "<style scoped>\n",
       "    .dataframe tbody tr th:only-of-type {\n",
       "        vertical-align: middle;\n",
       "    }\n",
       "\n",
       "    .dataframe tbody tr th {\n",
       "        vertical-align: top;\n",
       "    }\n",
       "\n",
       "    .dataframe thead th {\n",
       "        text-align: right;\n",
       "    }\n",
       "</style>\n",
       "<table border=\"1\" class=\"dataframe\">\n",
       "  <thead>\n",
       "    <tr style=\"text-align: right;\">\n",
       "      <th></th>\n",
       "      <th>WindPower</th>\n",
       "      <th>PVPower</th>\n",
       "    </tr>\n",
       "  </thead>\n",
       "  <tbody>\n",
       "    <tr>\n",
       "      <th>R1</th>\n",
       "      <td>396.352</td>\n",
       "      <td>0.0</td>\n",
       "    </tr>\n",
       "    <tr>\n",
       "      <th>R2</th>\n",
       "      <td>417.778</td>\n",
       "      <td>0.0</td>\n",
       "    </tr>\n",
       "    <tr>\n",
       "      <th>R3</th>\n",
       "      <td>434.581</td>\n",
       "      <td>0.0</td>\n",
       "    </tr>\n",
       "    <tr>\n",
       "      <th>R4</th>\n",
       "      <td>448.482</td>\n",
       "      <td>0.0</td>\n",
       "    </tr>\n",
       "    <tr>\n",
       "      <th>R5</th>\n",
       "      <td>465.790</td>\n",
       "      <td>0.0</td>\n",
       "    </tr>\n",
       "  </tbody>\n",
       "</table>\n",
       "</div>"
      ],
      "text/plain": [
       "    WindPower  PVPower\n",
       "R1    396.352      0.0\n",
       "R2    417.778      0.0\n",
       "R3    434.581      0.0\n",
       "R4    448.482      0.0\n",
       "R5    465.790      0.0"
      ]
     },
     "execution_count": 105,
     "metadata": {},
     "output_type": "execute_result"
    }
   ],
   "source": [
    "# display the y head so to visualize if everything is ok\n",
    "y.head()"
   ]
  },
  {
   "cell_type": "code",
   "execution_count": 106,
   "metadata": {},
   "outputs": [
    {
     "data": {
      "image/png": "[encoded data removed]",
      "text/plain": [
       "<Figure size 1080x936 with 2 Axes>"
      ]
     },
     "metadata": {
      "needs_background": "light"
     },
     "output_type": "display_data"
    }
   ],
   "source": [
    "# plot the correlation matrix\n",
    "f = plt.figure(figsize=(15, 13))\n",
    "plt.matshow(x.corr(), fignum=f.number)\n",
    "plt.xticks(range(x.shape[1]), x.columns, fontsize=14, rotation=45)\n",
    "plt.yticks(range(x.shape[1]), x.columns, fontsize=14)\n",
    "cb = plt.colorbar()\n",
    "cb.ax.tick_params(labelsize=14)"
   ]
  },
  {
   "cell_type": "code",
   "execution_count": 107,
   "metadata": {},
   "outputs": [
    {
     "data": {
      "text/plain": [
       "array(['Night', 'Day'], dtype=object)"
      ]
     },
     "execution_count": 107,
     "metadata": {},
     "output_type": "execute_result"
    }
   ],
   "source": [
    "# verify which categories are included in the categorical variables\n",
    "x['IsDayBin'].unique()\n",
    "# x['Year'].unique()\n",
    "# x['Month'].unique()"
   ]
  },
  {
   "cell_type": "code",
   "execution_count": 108,
   "metadata": {},
   "outputs": [
    {
     "data": {
      "text/html": [
       "<div>\n",
       "<style scoped>\n",
       "    .dataframe tbody tr th:only-of-type {\n",
       "        vertical-align: middle;\n",
       "    }\n",
       "\n",
       "    .dataframe tbody tr th {\n",
       "        vertical-align: top;\n",
       "    }\n",
       "\n",
       "    .dataframe thead th {\n",
       "        text-align: right;\n",
       "    }\n",
       "</style>\n",
       "<table border=\"1\" class=\"dataframe\">\n",
       "  <thead>\n",
       "    <tr style=\"text-align: right;\">\n",
       "      <th></th>\n",
       "      <th>WindSpeed</th>\n",
       "      <th>IrrDirect</th>\n",
       "      <th>IrrDiffuse</th>\n",
       "      <th>Temperature</th>\n",
       "      <th>Percipitation</th>\n",
       "      <th>SnowFlow</th>\n",
       "      <th>SnowMass</th>\n",
       "      <th>AirDensity</th>\n",
       "      <th>RadSurface</th>\n",
       "      <th>RadTop</th>\n",
       "      <th>CloudCover</th>\n",
       "    </tr>\n",
       "  </thead>\n",
       "  <tbody>\n",
       "    <tr>\n",
       "      <th>R1</th>\n",
       "      <td>5.777</td>\n",
       "      <td>0.0</td>\n",
       "      <td>0.0</td>\n",
       "      <td>-1.210</td>\n",
       "      <td>0.114</td>\n",
       "      <td>0.099</td>\n",
       "      <td>10.592</td>\n",
       "      <td>1.268</td>\n",
       "      <td>0.0</td>\n",
       "      <td>0.0</td>\n",
       "      <td>1.0</td>\n",
       "    </tr>\n",
       "    <tr>\n",
       "      <th>R2</th>\n",
       "      <td>5.887</td>\n",
       "      <td>0.0</td>\n",
       "      <td>0.0</td>\n",
       "      <td>-0.862</td>\n",
       "      <td>0.114</td>\n",
       "      <td>0.103</td>\n",
       "      <td>10.671</td>\n",
       "      <td>1.266</td>\n",
       "      <td>0.0</td>\n",
       "      <td>0.0</td>\n",
       "      <td>1.0</td>\n",
       "    </tr>\n",
       "    <tr>\n",
       "      <th>R3</th>\n",
       "      <td>5.957</td>\n",
       "      <td>0.0</td>\n",
       "      <td>0.0</td>\n",
       "      <td>-0.552</td>\n",
       "      <td>0.122</td>\n",
       "      <td>0.111</td>\n",
       "      <td>10.756</td>\n",
       "      <td>1.265</td>\n",
       "      <td>0.0</td>\n",
       "      <td>0.0</td>\n",
       "      <td>1.0</td>\n",
       "    </tr>\n",
       "    <tr>\n",
       "      <th>R4</th>\n",
       "      <td>6.025</td>\n",
       "      <td>0.0</td>\n",
       "      <td>0.0</td>\n",
       "      <td>-0.297</td>\n",
       "      <td>0.158</td>\n",
       "      <td>0.145</td>\n",
       "      <td>10.855</td>\n",
       "      <td>1.264</td>\n",
       "      <td>0.0</td>\n",
       "      <td>0.0</td>\n",
       "      <td>1.0</td>\n",
       "    </tr>\n",
       "    <tr>\n",
       "      <th>R5</th>\n",
       "      <td>6.101</td>\n",
       "      <td>0.0</td>\n",
       "      <td>0.0</td>\n",
       "      <td>-0.149</td>\n",
       "      <td>0.164</td>\n",
       "      <td>0.081</td>\n",
       "      <td>10.884</td>\n",
       "      <td>1.263</td>\n",
       "      <td>0.0</td>\n",
       "      <td>0.0</td>\n",
       "      <td>1.0</td>\n",
       "    </tr>\n",
       "  </tbody>\n",
       "</table>\n",
       "</div>"
      ],
      "text/plain": [
       "    WindSpeed  IrrDirect  IrrDiffuse  Temperature  Percipitation  SnowFlow  \\\n",
       "R1      5.777        0.0         0.0       -1.210          0.114     0.099   \n",
       "R2      5.887        0.0         0.0       -0.862          0.114     0.103   \n",
       "R3      5.957        0.0         0.0       -0.552          0.122     0.111   \n",
       "R4      6.025        0.0         0.0       -0.297          0.158     0.145   \n",
       "R5      6.101        0.0         0.0       -0.149          0.164     0.081   \n",
       "\n",
       "    SnowMass  AirDensity  RadSurface  RadTop  CloudCover  \n",
       "R1    10.592       1.268         0.0     0.0         1.0  \n",
       "R2    10.671       1.266         0.0     0.0         1.0  \n",
       "R3    10.756       1.265         0.0     0.0         1.0  \n",
       "R4    10.855       1.264         0.0     0.0         1.0  \n",
       "R5    10.884       1.263         0.0     0.0         1.0  "
      ]
     },
     "execution_count": 108,
     "metadata": {},
     "output_type": "execute_result"
    }
   ],
   "source": [
    "# drop the categorical X-variables\n",
    "# --> check the questions on this\n",
    "X = x.drop(['Year','IsDayBin','Month'],axis=1)\n",
    "X.head()"
   ]
  },
  {
   "cell_type": "code",
   "execution_count": 109,
   "metadata": {},
   "outputs": [],
   "source": [
    "# drop a Y-variable\n",
    "# --> check the questions on this\n",
    "Y = y\n",
    "#y.drop(['WindPower'],axis=1)"
   ]
  },
  {
   "cell_type": "code",
   "execution_count": 110,
   "metadata": {},
   "outputs": [],
   "source": [
    "# Converting the dataframes to numpy arrays\n",
    "X = X.values\n",
    "Y = Y.values"
   ]
  },
  {
   "cell_type": "code",
   "execution_count": 111,
   "metadata": {},
   "outputs": [],
   "source": [
    "# scaling the X-variables\n",
    "# --> check the questions on this\n",
    "from sklearn.preprocessing import StandardScaler\n",
    "scaler = StandardScaler()\n",
    "scaler.fit(X)\n",
    "X_scaled = scaler.transform(X)"
   ]
  },
  {
   "cell_type": "code",
   "execution_count": 112,
   "metadata": {},
   "outputs": [],
   "source": [
    "# Splitting the dataset into training and test set\n",
    "# --> check the questions on this\n",
    "from sklearn.model_selection import train_test_split\n",
    "X_train,X_test,Y_train,Y_test = train_test_split(X_scaled,Y,test_size=0.5,random_state=42)"
   ]
  },
  {
   "cell_type": "code",
   "execution_count": 113,
   "metadata": {},
   "outputs": [
    {
     "name": "stdout",
     "output_type": "stream",
     "text": [
      "[[ 3.24787794e+02  6.18167360e+00  2.27321197e+00 -6.29791215e+00\n",
      "   2.87975833e+00 -4.70188126e-01  1.42191444e+00 -8.17648579e+00\n",
      "  -8.98538571e+00  9.69716267e+00 -2.02247631e+00]\n",
      " [ 4.51715705e-01  2.48703286e+02  9.13105643e+01 -6.17783901e+00\n",
      "   9.94548811e-01 -1.12207863e+00  9.27782129e-02 -4.90684542e-01\n",
      "  -3.74460972e+01 -1.40193153e+01  6.03757691e-01]]\n"
     ]
    }
   ],
   "source": [
    "# Using the SKLEARN library to fit a model\n",
    "# --> check the questions on this\n",
    "from sklearn.linear_model import LinearRegression\n",
    "reg = LinearRegression().fit(X_train, Y_train)\n",
    "\n",
    "# predict the data\n",
    "y_predict = reg.predict(X_test)\n",
    "\n",
    "# print the estimated coefficients\n",
    "print(reg.coef_)"
   ]
  },
  {
   "cell_type": "code",
   "execution_count": 114,
   "metadata": {},
   "outputs": [
    {
     "data": {
      "text/plain": [
       "<matplotlib.collections.PathCollection at 0x14c675c0>"
      ]
     },
     "execution_count": 114,
     "metadata": {},
     "output_type": "execute_result"
    },
    {
     "data": {
      "image/png": "[encoded data removed]",
      "text/plain": [
       "<Figure size 432x288 with 1 Axes>"
      ]
     },
     "metadata": {
      "needs_background": "light"
     },
     "output_type": "display_data"
    }
   ],
   "source": [
    "# Visualize how close the predicted data is to the measured one\n",
    "# --> check the questions on this\n",
    "plt.scatter(Y_test,y_predict)"
   ]
  },
  {
   "cell_type": "code",
   "execution_count": 115,
   "metadata": {},
   "outputs": [
    {
     "data": {
      "image/png": "[encoded data removed]",
      "text/plain": [
       "<Figure size 432x288 with 1 Axes>"
      ]
     },
     "metadata": {
      "needs_background": "light"
     },
     "output_type": "display_data"
    }
   ],
   "source": [
    "# Execute a PCA on the X space\n",
    "# --> check the questions on this\n",
    "from sklearn.decomposition import PCA\n",
    "pca = PCA(6).fit(X_train)\n",
    "\n",
    "# visualize the results\n",
    "plt.plot(np.cumsum(pca.explained_variance_ratio_))\n",
    "plt.xlabel('number of components')\n",
    "plt.ylabel('cumulative explained variance');"
   ]
  },
  {
   "cell_type": "code",
   "execution_count": 116,
   "metadata": {},
   "outputs": [],
   "source": [
    "# compute P and T\n",
    "P = pca.components_\n",
    "T = X_train.dot(P.T)"
   ]
  },
  {
   "cell_type": "code",
   "execution_count": 117,
   "metadata": {},
   "outputs": [
    {
     "name": "stdout",
     "output_type": "stream",
     "text": [
      "('First component ', array([-0.07118599,  0.38158456,  0.39044395,  0.37715303, -0.04737328,\n",
      "       -0.11409366, -0.18107559, -0.3204416 ,  0.43788638,  0.42866865,\n",
      "       -0.16852541]))\n"
     ]
    },
    {
     "data": {
      "image/png": "[encoded data removed]",
      "text/plain": [
       "<Figure size 432x288 with 1 Axes>"
      ]
     },
     "metadata": {
      "needs_background": "light"
     },
     "output_type": "display_data"
    }
   ],
   "source": [
    "# plot the first component\n",
    "# --> check the questions on this\n",
    "print(\"First component \", P.T[:,0])\n",
    "x = np.arange(X_scaled.shape[1])\n",
    "plt.bar(x, height= P.T[:,0])\n",
    "plt.hlines(0,-1,5)\n",
    "plt.xticks(x+.1, ['WS','IDir','IDiff','T','Ppt','SF','SM','Rho','RadSurf','RadTop','CloudCover'])\n",
    "plt.ylabel(\"1st component\")\n",
    "plt.show()"
   ]
  },
  {
   "cell_type": "code",
   "execution_count": 118,
   "metadata": {},
   "outputs": [
    {
     "data": {
      "text/plain": [
       "(13152L, 6L)"
      ]
     },
     "execution_count": 118,
     "metadata": {},
     "output_type": "execute_result"
    }
   ],
   "source": [
    "# verify that everything is as it should be\n",
    "T.shape"
   ]
  },
  {
   "cell_type": "code",
   "execution_count": 119,
   "metadata": {},
   "outputs": [
    {
     "name": "stdout",
     "output_type": "stream",
     "text": [
      "[[ -19.40626015   98.23426495  -27.28759032  241.18050072 -187.48529663\n",
      "   -14.47462816]\n",
      " [ 105.90366192  -60.82263039   40.20002892   44.5167236    24.12544413\n",
      "   -20.43547046]]\n"
     ]
    },
    {
     "data": {
      "text/plain": [
       "<matplotlib.collections.PathCollection at 0x16fdd908>"
      ]
     },
     "execution_count": 119,
     "metadata": {},
     "output_type": "execute_result"
    },
    {
     "data": {
      "image/png": "[encoded data removed]",
      "text/plain": [
       "<Figure size 432x288 with 1 Axes>"
      ]
     },
     "metadata": {
      "needs_background": "light"
     },
     "output_type": "display_data"
    }
   ],
   "source": [
    "# train a PCR model\n",
    "from sklearn.linear_model import LinearRegression\n",
    "reg = LinearRegression().fit(T, Y_train)\n",
    "\n",
    "# print the coefficients\n",
    "print(reg.coef_)\n",
    "\n",
    "# predict the y's and plot them against the measured y's\n",
    "y_predict = reg.predict(X_test.dot(P.T))\n",
    "plt.scatter(Y_test,y_predict)"
   ]
  },
  {
   "cell_type": "code",
   "execution_count": 121,
   "metadata": {},
   "outputs": [
    {
     "data": {
      "text/plain": [
       "<matplotlib.collections.PathCollection at 0x17af2d68>"
      ]
     },
     "execution_count": 121,
     "metadata": {},
     "output_type": "execute_result"
    },
    {
     "data": {
      "image/png": "[encoded data removed]",
      "text/plain": [
       "<Figure size 432x288 with 1 Axes>"
      ]
     },
     "metadata": {
      "needs_background": "light"
     },
     "output_type": "display_data"
    }
   ],
   "source": [
    "# train the PLS model\n",
    "# --> check the questions on this\n",
    "from sklearn.cross_decomposition import PLSRegression\n",
    "pls2 = PLSRegression(n_components=4)\n",
    "pls2.fit(X_train, Y_train)\n",
    "\n",
    "# predict the y's and plot them against the measured y's\n",
    "y_predict = pls2.predict(X_test)\n",
    "plt.scatter(Y_test,y_predict)"
   ]
  },
  {
   "cell_type": "code",
   "execution_count": 78,
   "metadata": {},
   "outputs": [],
   "source": [
    "# for readability, save the variables so to have good names\n",
    "T = pls2.x_scores_\n",
    "U = pls2.y_scores_\n",
    "W = pls2.x_weights_\n",
    "C = pls2.y_weights_\n",
    "P = pls2.x_loadings_\n",
    "Q = pls2.y_loadings_"
   ]
  },
  {
   "cell_type": "code",
   "execution_count": 79,
   "metadata": {},
   "outputs": [
    {
     "name": "stdout",
     "output_type": "stream",
     "text": [
      "((13152L, 4L), (13152L, 4L), (11L, 4L), (1L, 4L), (11L, 4L), (1L, 4L))\n"
     ]
    }
   ],
   "source": [
    "# for debug, just to see that the dimensions are the correct ones\n",
    "print(T.shape,U.shape,W.shape,C.shape,P.shape,Q.shape)"
   ]
  },
  {
   "cell_type": "code",
   "execution_count": 80,
   "metadata": {},
   "outputs": [
    {
     "name": "stdout",
     "output_type": "stream",
     "text": [
      "('First component ', array([ 0.78230455, -0.41591531, -0.34674397, -0.14367675,  0.29344595,\n",
      "        0.21576039, -0.04445404,  0.00888408, -0.42237682, -0.38814749,\n",
      "        0.14258583]))\n"
     ]
    },
    {
     "data": {
      "image/png": "[encoded data removed]",
      "text/plain": [
       "<Figure size 720x504 with 1 Axes>"
      ]
     },
     "metadata": {
      "needs_background": "light"
     },
     "output_type": "display_data"
    }
   ],
   "source": [
    "# plot the first component\n",
    "print(\"First component \", P[:,0])\n",
    "x = np.arange(X_scaled.shape[1])\n",
    "plt.figure(figsize=(10,7))\n",
    "plt.bar(x, height= P[:,0])\n",
    "plt.hlines(0,-1,5)\n",
    "plt.xticks(x+.1, ['WS','IDir','IDiff','T','Ppt','SF','SM','Rho','RadSurf','RadTop','CloudCover'])\n",
    "plt.ylabel(\"1st component\")\n",
    "plt.show()"
   ]
  },
  {
   "cell_type": "code",
   "execution_count": 55,
   "metadata": {},
   "outputs": [
    {
     "data": {
      "text/plain": [
       "11L"
      ]
     },
     "execution_count": 55,
     "metadata": {},
     "output_type": "execute_result"
    }
   ],
   "source": [
    "X_scaled.shape[1]"
   ]
  },
  {
   "cell_type": "code",
   "execution_count": null,
   "metadata": {},
   "outputs": [],
   "source": []
  },
  {
   "cell_type": "code",
   "execution_count": null,
   "metadata": {},
   "outputs": [],
   "source": []
  }
 ],
 "metadata": {
  "kernelspec": {
   "display_name": "Python 2",
   "language": "python",
   "name": "python2"
  },
  "language_info": {
   "codemirror_mode": {
    "name": "ipython",
    "version": 2
   },
   "file_extension": ".py",
   "mimetype": "text/x-python",
   "name": "python",
   "nbconvert_exporter": "python",
   "pygments_lexer": "ipython2",
   "version": "2.7.16"
  }
 },
 "nbformat": 4,
 "nbformat_minor": 2
}
